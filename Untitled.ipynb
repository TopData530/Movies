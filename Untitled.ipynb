{
 "cells": [
  {
   "cell_type": "code",
   "execution_count": 203,
   "id": "4ab0eb8a",
   "metadata": {},
   "outputs": [],
   "source": [
    "import pandas as pd\n",
    "import numpy as np\n",
    "import os, time,json\n",
    "import tmdbsimple as tmdb \n",
    "import matplotlib.pyplot as plt\n",
    "import seaborn as sns\n",
    "from scipy import stats\n",
    "import scipy\n",
    "from sklearn.model_selection import train_test_split\n",
    "from sklearn.preprocessing import OneHotEncoder, StandardScaler\n",
    "from sklearn.impute import SimpleImputer\n",
    "from sklearn.compose import make_column_transformer, make_column_selector, ColumnTransformer\n",
    "from sklearn.pipeline import make_pipeline, Pipeline\n",
    "from sklearn.metrics import r2_score, mean_absolute_error, mean_squared_error\n",
    "np.random.seed(321)\n",
    "scipy.__version__\n",
    "from tqdm.notebook import tqdm_notebook"
   ]
  },
  {
   "cell_type": "code",
   "execution_count": 204,
   "id": "8d3f78e6",
   "metadata": {},
   "outputs": [],
   "source": [
    "pd.set_option('display.max_columns',100)"
   ]
  },
  {
   "cell_type": "code",
   "execution_count": 205,
   "id": "707f4aa9",
   "metadata": {},
   "outputs": [
    {
     "data": {
      "text/plain": [
       "dict_keys(['API Key (v3 auth)'])"
      ]
     },
     "execution_count": 205,
     "metadata": {},
     "output_type": "execute_result"
    }
   ],
   "source": [
    "with open('/Data Enrichment/Practices/Practices/.secret/tmdb_api.json', 'r') as f:\n",
    "    login = json.load(f)\n",
    "## Display the keys of the loaded dict\n",
    "login.keys()"
   ]
  },
  {
   "cell_type": "code",
   "execution_count": 183,
   "id": "f2be70f1",
   "metadata": {},
   "outputs": [],
   "source": [
    "tmdb.API_KEY =  login['API Key (v3 auth)']"
   ]
  },
  {
   "cell_type": "code",
   "execution_count": 208,
   "id": "510c3caf",
   "metadata": {},
   "outputs": [
    {
     "data": {
      "text/plain": [
       "['.ipynb_checkpoints',\n",
       " 'tmdb_api_results_2000.json',\n",
       " 'tmdb_api_results_2001.json',\n",
       " 'tmdb_api_results_2010.json',\n",
       " 'tmdb_api_results_2011.json',\n",
       " 'tmdb_api_results_2012.json',\n",
       " 'tmdb_api_results_2013.json',\n",
       " 'tmdb_api_results_2014.json',\n",
       " 'tmdb_api_results_2015.json',\n",
       " 'tmdb_api_results_2016.json',\n",
       " 'tmdb_api_results_2017.json',\n",
       " 'tmdb_api_results_2018.json',\n",
       " 'tmdb_api_results_2019.json']"
      ]
     },
     "execution_count": 208,
     "metadata": {},
     "output_type": "execute_result"
    }
   ],
   "source": [
    "FOLDER = 'Data/'\n",
    "file_list = sorted(os.listdir(FOLDER))\n",
    "file_list"
   ]
  },
  {
   "cell_type": "code",
   "execution_count": 210,
   "id": "abc10c7f",
   "metadata": {},
   "outputs": [
    {
     "data": {
      "text/plain": [
       "'tmdb_api_results_2000.json'"
      ]
     },
     "execution_count": 210,
     "metadata": {},
     "output_type": "execute_result"
    }
   ],
   "source": [
    "file_list[1]"
   ]
  },
  {
   "cell_type": "code",
   "execution_count": 211,
   "id": "c4cedb50",
   "metadata": {},
   "outputs": [
    {
     "data": {
      "text/plain": [
       "'Data/tmdb_api_results_2000.json'"
      ]
     },
     "execution_count": 211,
     "metadata": {},
     "output_type": "execute_result"
    }
   ],
   "source": [
    "FOLDER+ file_list[1]"
   ]
  },
  {
   "cell_type": "code",
   "execution_count": 212,
   "id": "1d7550ff",
   "metadata": {},
   "outputs": [
    {
     "data": {
      "text/html": [
       "<div>\n",
       "<style scoped>\n",
       "    .dataframe tbody tr th:only-of-type {\n",
       "        vertical-align: middle;\n",
       "    }\n",
       "\n",
       "    .dataframe tbody tr th {\n",
       "        vertical-align: top;\n",
       "    }\n",
       "\n",
       "    .dataframe thead th {\n",
       "        text-align: right;\n",
       "    }\n",
       "</style>\n",
       "<table border=\"1\" class=\"dataframe\">\n",
       "  <thead>\n",
       "    <tr style=\"text-align: right;\">\n",
       "      <th></th>\n",
       "      <th>[{\"imdb_id\": 0}</th>\n",
       "      <th>{\"adult\": false</th>\n",
       "      <th>\"backdrop_path\": \"/t7zb6CnRQwhzQSq0apR4ESFYiWN.jpg\"</th>\n",
       "      <th>\"belongs_to_collection\": null</th>\n",
       "      <th>\"budget\": 65000000</th>\n",
       "      <th>\"genres\": [{\"id\": 28</th>\n",
       "      <th>\"name\": \"Action\"}</th>\n",
       "      <th>{\"id\": 16</th>\n",
       "      <th>\"name\": \"Animation\"}</th>\n",
       "      <th>{\"id\": 35</th>\n",
       "      <th>\"name\": \"Comedy\"}</th>\n",
       "      <th>{\"id\": 10751</th>\n",
       "      <th>\"name\": \"Family\"}]</th>\n",
       "      <th>\"homepage\": \"http://www.thresholdanimationstudios.com/video.php?id=foodfight\"</th>\n",
       "      <th>\"id\": 116977</th>\n",
       "      <th>\"imdb_id\": \"tt0249516\"</th>\n",
       "      <th>\"original_language\": \"en\"</th>\n",
       "      <th>\"original_title\": \"Foodfight!\"</th>\n",
       "      <th>\"overview\": \"The evil Brand X joins a supermarket that becomes a city after closing time.\"</th>\n",
       "      <th>\"popularity\": 7.619</th>\n",
       "      <th>\"poster_path\": \"/to9ggXVyhNTCICHcHMCtFtANd8P.jpg\"</th>\n",
       "      <th>\"production_companies\": [{\"id\": 1632</th>\n",
       "      <th>\"logo_path\": \"/cisLn1YAUuptXVBa0xjq7ST9cH0.png\"</th>\n",
       "      <th>\"name\": \"Lionsgate\"</th>\n",
       "      <th>\"origin_country\": \"US\"}</th>\n",
       "      <th>{\"id\": 4174</th>\n",
       "      <th>\"logo_path\": null</th>\n",
       "      <th>\"name\": \"Threshold Entertainment\"</th>\n",
       "      <th>\"origin_country\": \"\"}</th>\n",
       "      <th>{\"id\": 133802</th>\n",
       "      <th>\"logo_path\": null.1</th>\n",
       "      <th>\"name\": \"C47 Productions\"</th>\n",
       "      <th>\"origin_country\": \"\"}.1</th>\n",
       "      <th>{\"id\": 133803</th>\n",
       "      <th>\"logo_path\": null.2</th>\n",
       "      <th>\"name\": \"Natural Image\"</th>\n",
       "      <th>\"origin_country\": \"\"}.2</th>\n",
       "      <th>{\"id\": 133804</th>\n",
       "      <th>\"logo_path\": null.3</th>\n",
       "      <th>\"name\": \"StoryArk Media\"</th>\n",
       "      <th>\"origin_country\": \"\"}]</th>\n",
       "      <th>\"production_countries\": [{\"iso_3166_1\": \"US\"</th>\n",
       "      <th>\"name\": \"United States of America\"}]</th>\n",
       "      <th>\"release_date\": \"2012-06-15\"</th>\n",
       "      <th>\"revenue\": 73706</th>\n",
       "      <th>\"runtime\": 87</th>\n",
       "      <th>\"spoken_languages\": [{\"english_name\": \"English\"</th>\n",
       "      <th>\"iso_639_1\": \"en\"</th>\n",
       "      <th>\"name\": \"English\"}]</th>\n",
       "      <th>\"status\": \"Released\"</th>\n",
       "      <th>...</th>\n",
       "      <th>\"logo_path\": null.2730</th>\n",
       "      <th>\"name\": \"dtp entertainment AG\"</th>\n",
       "      <th>\"origin_country\": \"\"}].1017</th>\n",
       "      <th>\"production_countries\": [].701</th>\n",
       "      <th>\"release_date\": \"2012-12-12\".14</th>\n",
       "      <th>\"revenue\": 0.2829</th>\n",
       "      <th>\"runtime\": 93.77</th>\n",
       "      <th>\"spoken_languages\": [{\"english_name\": \"English\".1373</th>\n",
       "      <th>\"iso_639_1\": \"en\".1519</th>\n",
       "      <th>\"name\": \"English\"}].1308</th>\n",
       "      <th>\"status\": \"Released\".3229</th>\n",
       "      <th>\"tagline\": \"Our last hope</th>\n",
       "      <th>our greatest threat.\"</th>\n",
       "      <th>\"title\": \"Heroes and Demons\"</th>\n",
       "      <th>\"video\": false.3199</th>\n",
       "      <th>\"vote_average\": 7.2.12</th>\n",
       "      <th>\"vote_count\": 12}.31</th>\n",
       "      <th>{\"adult\": false.3224</th>\n",
       "      <th>\"backdrop_path\": null.1486</th>\n",
       "      <th>\"belongs_to_collection\": null.2995</th>\n",
       "      <th>\"budget\": 0.2601</th>\n",
       "      <th>\"genres\": [].399</th>\n",
       "      <th>\"homepage\": \"\".2416</th>\n",
       "      <th>\"id\": 152428</th>\n",
       "      <th>\"imdb_id\": \"tt9033128\"</th>\n",
       "      <th>\"original_language\": \"de\".72</th>\n",
       "      <th>\"original_title\": \"Dostavit' ljuboj cenoj\"</th>\n",
       "      <th>\"overview\": \"\".77</th>\n",
       "      <th>\"popularity\": 0.84.46</th>\n",
       "      <th>\"poster_path\": \"/zwGWmzC5GLdF6DLkslV7j8cy2fd.jpg\"</th>\n",
       "      <th>\"production_companies\": [{\"id\": 21652</th>\n",
       "      <th>\"logo_path\": \"/mwaEbZRrtGPt9MkVEqnzqyyEF9W.png\"</th>\n",
       "      <th>\"name\": \"Film.UA\"</th>\n",
       "      <th>\"origin_country\": \"UA\"}].3</th>\n",
       "      <th>\"production_countries\": [{\"iso_3166_1\": \"RU\".35</th>\n",
       "      <th>\"name\": \"Russia\"}.7</th>\n",
       "      <th>{\"iso_3166_1\": \"UA\".1</th>\n",
       "      <th>\"name\": \"Ukraine\"}].3</th>\n",
       "      <th>\"release_date\": \"2011-01-01\".10</th>\n",
       "      <th>\"revenue\": 0.2830</th>\n",
       "      <th>\"runtime\": 0.242</th>\n",
       "      <th>\"spoken_languages\": [{\"english_name\": \"Russian\".48</th>\n",
       "      <th>\"iso_639_1\": \"ru\".71</th>\n",
       "      <th>\"name\": \"P\\u0443\\u0441\\u0441\\u043a\\u0438\\u0439\"}].49</th>\n",
       "      <th>\"status\": \"Released\".3230</th>\n",
       "      <th>\"tagline\": \"\".2050</th>\n",
       "      <th>\"title\": \"Dostavit' ljuboj cenoj\"</th>\n",
       "      <th>\"video\": false.3200</th>\n",
       "      <th>\"vote_average\": 5.0.102</th>\n",
       "      <th>\"vote_count\": 1}]</th>\n",
       "    </tr>\n",
       "  </thead>\n",
       "  <tbody>\n",
       "  </tbody>\n",
       "</table>\n",
       "<p>0 rows × 128596 columns</p>\n",
       "</div>"
      ],
      "text/plain": [
       "Empty DataFrame\n",
       "Columns: [[{\"imdb_id\": 0},  {\"adult\": false,  \"backdrop_path\": \"/t7zb6CnRQwhzQSq0apR4ESFYiWN.jpg\",  \"belongs_to_collection\": null,  \"budget\": 65000000,  \"genres\": [{\"id\": 28,  \"name\": \"Action\"},  {\"id\": 16,  \"name\": \"Animation\"},  {\"id\": 35,  \"name\": \"Comedy\"},  {\"id\": 10751,  \"name\": \"Family\"}],  \"homepage\": \"http://www.thresholdanimationstudios.com/video.php?id=foodfight\",  \"id\": 116977,  \"imdb_id\": \"tt0249516\",  \"original_language\": \"en\",  \"original_title\": \"Foodfight!\",  \"overview\": \"The evil Brand X joins a supermarket that becomes a city after closing time.\",  \"popularity\": 7.619,  \"poster_path\": \"/to9ggXVyhNTCICHcHMCtFtANd8P.jpg\",  \"production_companies\": [{\"id\": 1632,  \"logo_path\": \"/cisLn1YAUuptXVBa0xjq7ST9cH0.png\",  \"name\": \"Lionsgate\",  \"origin_country\": \"US\"},  {\"id\": 4174,  \"logo_path\": null,  \"name\": \"Threshold Entertainment\",  \"origin_country\": \"\"},  {\"id\": 133802,  \"logo_path\": null.1,  \"name\": \"C47 Productions\",  \"origin_country\": \"\"}.1,  {\"id\": 133803,  \"logo_path\": null.2,  \"name\": \"Natural Image\",  \"origin_country\": \"\"}.2,  {\"id\": 133804,  \"logo_path\": null.3,  \"name\": \"StoryArk Media\",  \"origin_country\": \"\"}],  \"production_countries\": [{\"iso_3166_1\": \"US\",  \"name\": \"United States of America\"}],  \"release_date\": \"2012-06-15\",  \"revenue\": 73706,  \"runtime\": 87,  \"spoken_languages\": [{\"english_name\": \"English\",  \"iso_639_1\": \"en\",  \"name\": \"English\"}],  \"status\": \"Released\",  \"tagline\": \"\",  \"title\": \"Foodfight!\",  \"video\": false,  \"vote_average\": 1.8,  \"vote_count\": 109,  \"certification\": \"PG\"},  {\"adult\": false.1,  \"backdrop_path\": \"/pKOHinAVIkyqLliMaTHCSL1T4zU.jpg\",  \"belongs_to_collection\": null.1,  \"budget\": 4000000,  \"genres\": [{\"id\": 35,  \"name\": \"Comedy\"}],  \"homepage\": \"\",  \"id\": 112074,  \"imdb_id\": \"tt0285252\",  \"original_language\": \"pl\",  \"original_title\": \"Life's a Beach\",  \"overview\": \"Darren gets stood up on the day of his wedding and uses his vacation tickets with his best friend,  RJ,  to spend his \\\"honeymoon\\\" at a Club Med-style resort.\",  \"popularity\": 0.6,  \"poster_path\": \"/v4RlCWc0ixi2ON6HWcZftO7U2P2.jpg\",  \"production_companies\": [{\"id\": 85165,  \"logo_path\": null.4,  \"name\": \"Miracle Entertainment\",  \"origin_country\": \"\"}.3,  {\"id\": 177690,  \"logo_path\": null.5,  \"name\": \"Bronx Born Films\",  \"origin_country\": \"\"}].1,  \"production_countries\": [{\"iso_3166_1\": \"US\".1,  \"name\": \"United States of America\"}].1,  \"release_date\": \"2010-01-01\",  \"revenue\": 0,  \"runtime\": 100,  \"spoken_languages\": [{\"english_name\": \"English\".1,  \"iso_639_1\": \"en\".1,  \"name\": \"English\"}].1,  \"status\": \"Released\".1,  \"tagline\": \"\".1,  \"title\": \"Life's a Beach\",  \"video\": false.1,  \"vote_average\": 2.4,  \"vote_count\": 6,  \"certification\": \"R\"},  {\"adult\": false.2,  \"backdrop_path\": \"/cj2isIuskSePAwpb2D6yUBZrhkJ.jpg\",  \"belongs_to_collection\": null.2,  \"budget\": 0,  \"genres\": [{\"id\": 53, ...]\n",
       "Index: []\n",
       "\n",
       "[0 rows x 128596 columns]"
      ]
     },
     "execution_count": 212,
     "metadata": {},
     "output_type": "execute_result"
    }
   ],
   "source": [
    "pd.read_csv(FOLDER+ file_list[5])"
   ]
  },
  {
   "cell_type": "code",
   "execution_count": 223,
   "id": "371d0922",
   "metadata": {},
   "outputs": [
    {
     "data": {
      "text/plain": [
       "'Data/api*csv.gz'"
      ]
     },
     "execution_count": 223,
     "metadata": {},
     "output_type": "execute_result"
    }
   ],
   "source": [
    "import glob\n",
    "q = FOLDER+ \"api*csv.gz\"\n",
    "q"
   ]
  },
  {
   "cell_type": "code",
   "execution_count": 224,
   "id": "62373cdb",
   "metadata": {},
   "outputs": [
    {
     "data": {
      "text/plain": [
       "[]"
      ]
     },
     "execution_count": 224,
     "metadata": {},
     "output_type": "execute_result"
    }
   ],
   "source": [
    "file_list = glob.glob(q)\n",
    "file_list"
   ]
  },
  {
   "cell_type": "code",
   "execution_count": 225,
   "id": "1c28b5c1",
   "metadata": {},
   "outputs": [
    {
     "ename": "IndexError",
     "evalue": "list index out of range",
     "output_type": "error",
     "traceback": [
      "\u001b[1;31m---------------------------------------------------------------------------\u001b[0m",
      "\u001b[1;31mIndexError\u001b[0m                                Traceback (most recent call last)",
      "Cell \u001b[1;32mIn [225], line 1\u001b[0m\n\u001b[1;32m----> 1\u001b[0m pd\u001b[38;5;241m.\u001b[39mread_csv(\u001b[43mfile_list\u001b[49m\u001b[43m[\u001b[49m\u001b[38;5;241;43m0\u001b[39;49m\u001b[43m]\u001b[49m,lineterminator \u001b[38;5;241m=\u001b[39m \u001b[38;5;124m'\u001b[39m\u001b[38;5;130;01m\\n\u001b[39;00m\u001b[38;5;124m'\u001b[39m)\n",
      "\u001b[1;31mIndexError\u001b[0m: list index out of range"
     ]
    }
   ],
   "source": [
    "pd.read_csv(file_list[0],lineterminator = '\\n')"
   ]
  },
  {
   "cell_type": "code",
   "execution_count": null,
   "id": "b2197855",
   "metadata": {},
   "outputs": [],
   "source": []
  },
  {
   "cell_type": "code",
   "execution_count": null,
   "id": "aa593ccd",
   "metadata": {},
   "outputs": [],
   "source": []
  },
  {
   "cell_type": "code",
   "execution_count": null,
   "id": "b7cfc5b2",
   "metadata": {},
   "outputs": [],
   "source": []
  },
  {
   "cell_type": "code",
   "execution_count": 184,
   "id": "5ffc60e9",
   "metadata": {
    "scrolled": true
   },
   "outputs": [
    {
     "data": {
      "text/html": [
       "<div>\n",
       "<style scoped>\n",
       "    .dataframe tbody tr th:only-of-type {\n",
       "        vertical-align: middle;\n",
       "    }\n",
       "\n",
       "    .dataframe tbody tr th {\n",
       "        vertical-align: top;\n",
       "    }\n",
       "\n",
       "    .dataframe thead th {\n",
       "        text-align: right;\n",
       "    }\n",
       "</style>\n",
       "<table border=\"1\" class=\"dataframe\">\n",
       "  <thead>\n",
       "    <tr style=\"text-align: right;\">\n",
       "      <th></th>\n",
       "      <th>tconst</th>\n",
       "      <th>titleType</th>\n",
       "      <th>primaryTitle</th>\n",
       "      <th>originalTitle</th>\n",
       "      <th>isAdult</th>\n",
       "      <th>startYear</th>\n",
       "      <th>endYear</th>\n",
       "      <th>runtimeMinutes</th>\n",
       "      <th>genres</th>\n",
       "    </tr>\n",
       "  </thead>\n",
       "  <tbody>\n",
       "    <tr>\n",
       "      <th>0</th>\n",
       "      <td>tt0035423</td>\n",
       "      <td>movie</td>\n",
       "      <td>Kate &amp; Leopold</td>\n",
       "      <td>Kate &amp; Leopold</td>\n",
       "      <td>0</td>\n",
       "      <td>2001</td>\n",
       "      <td>NaN</td>\n",
       "      <td>118</td>\n",
       "      <td>Comedy,Fantasy,Romance</td>\n",
       "    </tr>\n",
       "    <tr>\n",
       "      <th>1</th>\n",
       "      <td>tt0062336</td>\n",
       "      <td>movie</td>\n",
       "      <td>The Tango of the Widower and Its Distorting Mi...</td>\n",
       "      <td>El Tango del Viudo y Su Espejo Deformante</td>\n",
       "      <td>0</td>\n",
       "      <td>2020</td>\n",
       "      <td>NaN</td>\n",
       "      <td>70</td>\n",
       "      <td>Drama</td>\n",
       "    </tr>\n",
       "    <tr>\n",
       "      <th>2</th>\n",
       "      <td>tt0069049</td>\n",
       "      <td>movie</td>\n",
       "      <td>The Other Side of the Wind</td>\n",
       "      <td>The Other Side of the Wind</td>\n",
       "      <td>0</td>\n",
       "      <td>2018</td>\n",
       "      <td>NaN</td>\n",
       "      <td>122</td>\n",
       "      <td>Drama</td>\n",
       "    </tr>\n",
       "    <tr>\n",
       "      <th>3</th>\n",
       "      <td>tt0088751</td>\n",
       "      <td>movie</td>\n",
       "      <td>The Naked Monster</td>\n",
       "      <td>The Naked Monster</td>\n",
       "      <td>0</td>\n",
       "      <td>2005</td>\n",
       "      <td>NaN</td>\n",
       "      <td>100</td>\n",
       "      <td>Comedy,Horror,Sci-Fi</td>\n",
       "    </tr>\n",
       "    <tr>\n",
       "      <th>4</th>\n",
       "      <td>tt0096056</td>\n",
       "      <td>movie</td>\n",
       "      <td>Crime and Punishment</td>\n",
       "      <td>Crime and Punishment</td>\n",
       "      <td>0</td>\n",
       "      <td>2002</td>\n",
       "      <td>NaN</td>\n",
       "      <td>126</td>\n",
       "      <td>Drama</td>\n",
       "    </tr>\n",
       "  </tbody>\n",
       "</table>\n",
       "</div>"
      ],
      "text/plain": [
       "      tconst titleType                                       primaryTitle  \\\n",
       "0  tt0035423     movie                                     Kate & Leopold   \n",
       "1  tt0062336     movie  The Tango of the Widower and Its Distorting Mi...   \n",
       "2  tt0069049     movie                         The Other Side of the Wind   \n",
       "3  tt0088751     movie                                  The Naked Monster   \n",
       "4  tt0096056     movie                               Crime and Punishment   \n",
       "\n",
       "                               originalTitle  isAdult  startYear  endYear  \\\n",
       "0                             Kate & Leopold        0       2001      NaN   \n",
       "1  El Tango del Viudo y Su Espejo Deformante        0       2020      NaN   \n",
       "2                 The Other Side of the Wind        0       2018      NaN   \n",
       "3                          The Naked Monster        0       2005      NaN   \n",
       "4                       Crime and Punishment        0       2002      NaN   \n",
       "\n",
       "   runtimeMinutes                  genres  \n",
       "0             118  Comedy,Fantasy,Romance  \n",
       "1              70                   Drama  \n",
       "2             122                   Drama  \n",
       "3             100    Comedy,Horror,Sci-Fi  \n",
       "4             126                   Drama  "
      ]
     },
     "execution_count": 184,
     "metadata": {},
     "output_type": "execute_result"
    }
   ],
   "source": [
    "#Load in basics\n",
    "df = pd.read_csv('/Data Enrichment/Week 1/Project 3/basics.csv.gz')\n",
    "df.head()"
   ]
  },
  {
   "cell_type": "code",
   "execution_count": 185,
   "id": "e513af1e",
   "metadata": {},
   "outputs": [
    {
     "data": {
      "text/html": [
       "<div>\n",
       "<style scoped>\n",
       "    .dataframe tbody tr th:only-of-type {\n",
       "        vertical-align: middle;\n",
       "    }\n",
       "\n",
       "    .dataframe tbody tr th {\n",
       "        vertical-align: top;\n",
       "    }\n",
       "\n",
       "    .dataframe thead th {\n",
       "        text-align: right;\n",
       "    }\n",
       "</style>\n",
       "<table border=\"1\" class=\"dataframe\">\n",
       "  <thead>\n",
       "    <tr style=\"text-align: right;\">\n",
       "      <th></th>\n",
       "      <th>titleId</th>\n",
       "      <th>ordering</th>\n",
       "      <th>title</th>\n",
       "      <th>region</th>\n",
       "      <th>language</th>\n",
       "      <th>types</th>\n",
       "      <th>attributes</th>\n",
       "      <th>isOriginalTitle</th>\n",
       "    </tr>\n",
       "  </thead>\n",
       "  <tbody>\n",
       "    <tr>\n",
       "      <th>0</th>\n",
       "      <td>tt0000001</td>\n",
       "      <td>6</td>\n",
       "      <td>Carmencita</td>\n",
       "      <td>US</td>\n",
       "      <td>NaN</td>\n",
       "      <td>imdbDisplay</td>\n",
       "      <td>NaN</td>\n",
       "      <td>0.0</td>\n",
       "    </tr>\n",
       "    <tr>\n",
       "      <th>1</th>\n",
       "      <td>tt0000002</td>\n",
       "      <td>7</td>\n",
       "      <td>The Clown and His Dogs</td>\n",
       "      <td>US</td>\n",
       "      <td>NaN</td>\n",
       "      <td>NaN</td>\n",
       "      <td>literal English title</td>\n",
       "      <td>0.0</td>\n",
       "    </tr>\n",
       "    <tr>\n",
       "      <th>2</th>\n",
       "      <td>tt0000005</td>\n",
       "      <td>10</td>\n",
       "      <td>Blacksmith Scene</td>\n",
       "      <td>US</td>\n",
       "      <td>NaN</td>\n",
       "      <td>imdbDisplay</td>\n",
       "      <td>NaN</td>\n",
       "      <td>0.0</td>\n",
       "    </tr>\n",
       "    <tr>\n",
       "      <th>3</th>\n",
       "      <td>tt0000005</td>\n",
       "      <td>1</td>\n",
       "      <td>Blacksmithing Scene</td>\n",
       "      <td>US</td>\n",
       "      <td>NaN</td>\n",
       "      <td>alternative</td>\n",
       "      <td>NaN</td>\n",
       "      <td>0.0</td>\n",
       "    </tr>\n",
       "    <tr>\n",
       "      <th>4</th>\n",
       "      <td>tt0000005</td>\n",
       "      <td>6</td>\n",
       "      <td>Blacksmith Scene #1</td>\n",
       "      <td>US</td>\n",
       "      <td>NaN</td>\n",
       "      <td>alternative</td>\n",
       "      <td>NaN</td>\n",
       "      <td>0.0</td>\n",
       "    </tr>\n",
       "  </tbody>\n",
       "</table>\n",
       "</div>"
      ],
      "text/plain": [
       "     titleId  ordering                   title region language        types  \\\n",
       "0  tt0000001         6              Carmencita     US      NaN  imdbDisplay   \n",
       "1  tt0000002         7  The Clown and His Dogs     US      NaN          NaN   \n",
       "2  tt0000005        10        Blacksmith Scene     US      NaN  imdbDisplay   \n",
       "3  tt0000005         1     Blacksmithing Scene     US      NaN  alternative   \n",
       "4  tt0000005         6     Blacksmith Scene #1     US      NaN  alternative   \n",
       "\n",
       "              attributes  isOriginalTitle  \n",
       "0                    NaN              0.0  \n",
       "1  literal English title              0.0  \n",
       "2                    NaN              0.0  \n",
       "3                    NaN              0.0  \n",
       "4                    NaN              0.0  "
      ]
     },
     "execution_count": 185,
     "metadata": {},
     "output_type": "execute_result"
    }
   ],
   "source": [
    "# Load in the dataframe from project part 1 as akas:\n",
    "akas = pd.read_csv('/Data Enrichment/Week 1/Project 3/akas.csv.gz')\n",
    "akas.head()"
   ]
  },
  {
   "cell_type": "code",
   "execution_count": 186,
   "id": "708c57b1",
   "metadata": {},
   "outputs": [
    {
     "data": {
      "text/html": [
       "<div>\n",
       "<style scoped>\n",
       "    .dataframe tbody tr th:only-of-type {\n",
       "        vertical-align: middle;\n",
       "    }\n",
       "\n",
       "    .dataframe tbody tr th {\n",
       "        vertical-align: top;\n",
       "    }\n",
       "\n",
       "    .dataframe thead th {\n",
       "        text-align: right;\n",
       "    }\n",
       "</style>\n",
       "<table border=\"1\" class=\"dataframe\">\n",
       "  <thead>\n",
       "    <tr style=\"text-align: right;\">\n",
       "      <th></th>\n",
       "      <th>tconst</th>\n",
       "      <th>averageRating</th>\n",
       "      <th>numVotes</th>\n",
       "    </tr>\n",
       "  </thead>\n",
       "  <tbody>\n",
       "    <tr>\n",
       "      <th>0</th>\n",
       "      <td>tt0000001</td>\n",
       "      <td>5.7</td>\n",
       "      <td>1922</td>\n",
       "    </tr>\n",
       "    <tr>\n",
       "      <th>1</th>\n",
       "      <td>tt0000002</td>\n",
       "      <td>5.8</td>\n",
       "      <td>259</td>\n",
       "    </tr>\n",
       "    <tr>\n",
       "      <th>2</th>\n",
       "      <td>tt0000003</td>\n",
       "      <td>6.5</td>\n",
       "      <td>1736</td>\n",
       "    </tr>\n",
       "    <tr>\n",
       "      <th>3</th>\n",
       "      <td>tt0000004</td>\n",
       "      <td>5.6</td>\n",
       "      <td>174</td>\n",
       "    </tr>\n",
       "    <tr>\n",
       "      <th>4</th>\n",
       "      <td>tt0000005</td>\n",
       "      <td>6.2</td>\n",
       "      <td>2549</td>\n",
       "    </tr>\n",
       "  </tbody>\n",
       "</table>\n",
       "</div>"
      ],
      "text/plain": [
       "      tconst  averageRating  numVotes\n",
       "0  tt0000001            5.7      1922\n",
       "1  tt0000002            5.8       259\n",
       "2  tt0000003            6.5      1736\n",
       "3  tt0000004            5.6       174\n",
       "4  tt0000005            6.2      2549"
      ]
     },
     "execution_count": 186,
     "metadata": {},
     "output_type": "execute_result"
    }
   ],
   "source": [
    "# Load in the dataframe from project part 1 as ratings:\n",
    "ratings = pd.read_csv('/Data Enrichment/Week 1/Project 3/ratings.csv.gz')\n",
    "ratings.head()"
   ]
  },
  {
   "cell_type": "code",
   "execution_count": null,
   "id": "df42ec30",
   "metadata": {},
   "outputs": [],
   "source": []
  },
  {
   "cell_type": "code",
   "execution_count": null,
   "id": "94250981",
   "metadata": {},
   "outputs": [],
   "source": []
  },
  {
   "cell_type": "code",
   "execution_count": null,
   "id": "43b6123b",
   "metadata": {},
   "outputs": [],
   "source": []
  },
  {
   "cell_type": "code",
   "execution_count": null,
   "id": "1d688ea1",
   "metadata": {},
   "outputs": [],
   "source": []
  },
  {
   "cell_type": "code",
   "execution_count": null,
   "id": "be76e84a",
   "metadata": {},
   "outputs": [],
   "source": []
  },
  {
   "cell_type": "code",
   "execution_count": null,
   "id": "227661f6",
   "metadata": {},
   "outputs": [],
   "source": []
  },
  {
   "cell_type": "code",
   "execution_count": null,
   "id": "014c6c55",
   "metadata": {},
   "outputs": [],
   "source": []
  },
  {
   "cell_type": "code",
   "execution_count": 187,
   "id": "266c6b40",
   "metadata": {},
   "outputs": [],
   "source": [
    "def get_movie_with_rating(movie_id):\n",
    "    \"\"\"Adapted from source = https:github.com/celiao/tmdbsimple\"\"\"\n",
    "    movie = tmdb.Movies(movie_id)\n",
    "    info = movie.info()\n",
    "    releases = movie.releases()\n",
    "    for c in releases['countries']:\n",
    "        if c['iso_3166_1' ] =='US':\n",
    "            info['certification'] = c['certification']\n",
    "    return info\n"
   ]
  },
  {
   "cell_type": "code",
   "execution_count": 188,
   "id": "f5840f06",
   "metadata": {},
   "outputs": [],
   "source": [
    "# Get the movie object for the current id\n",
    "movie = tmdb.Movies('tt0848228')\n",
    "# save the .info .releases dictionaries\n",
    "info = movie.info()\n",
    "releases = movie.releases()\n",
    "# Loop through countries in releases\n",
    "for c in releases['countries']:\n",
    "    # if the country abbreviation==US\n",
    "    if c['iso_3166_1' ] =='US':\n",
    "        ## save a \"certification\" key in the info dict with the certification\n",
    "       info['certification'] = c['certification']\n"
   ]
  },
  {
   "cell_type": "code",
   "execution_count": 189,
   "id": "677d1d5a",
   "metadata": {},
   "outputs": [
    {
     "name": "stdout",
     "output_type": "stream",
     "text": [
      "PG-13\n"
     ]
    }
   ],
   "source": [
    "# example from package README\n",
    "# source = https://github.com/celiao/tmdbsimple\n",
    "response = movie.releases()\n",
    "for c in movie.countries:\n",
    "    if c['iso_3166_1'] == 'US':\n",
    "        print(c['certification'])\n"
   ]
  },
  {
   "cell_type": "code",
   "execution_count": 190,
   "id": "92a344f7",
   "metadata": {},
   "outputs": [],
   "source": [
    "def get_movie_with_rating(movie_id):\n",
    "    \"\"\"Adapted from source = https:github.com/celiao/tmdbsimple\"\"\"\n",
    "    movie = tmdb.Movies(movie_id)\n",
    "    info = movie.info()\n",
    "    releases = movie.releases()\n",
    "    for c in releases['countries']:\n",
    "        if c['iso_3166_1' ] =='US':\n",
    "            info['certification'] = c['certification']\n",
    "    return info"
   ]
  },
  {
   "cell_type": "code",
   "execution_count": 191,
   "id": "15a82cb6",
   "metadata": {},
   "outputs": [
    {
     "data": {
      "text/plain": [
       "{'adult': False,\n",
       " 'backdrop_path': '/9BBTo63ANSmhC4e6r62OJFuK2GL.jpg',\n",
       " 'belongs_to_collection': {'id': 86311,\n",
       "  'name': 'The Avengers Collection',\n",
       "  'poster_path': '/yFSIUVTCvgYrpalUktulvk3Gi5Y.jpg',\n",
       "  'backdrop_path': '/zuW6fOiusv4X9nnW3paHGfXcSll.jpg'},\n",
       " 'budget': 220000000,\n",
       " 'genres': [{'id': 878, 'name': 'Science Fiction'},\n",
       "  {'id': 28, 'name': 'Action'},\n",
       "  {'id': 12, 'name': 'Adventure'}],\n",
       " 'homepage': 'https://www.marvel.com/movies/the-avengers',\n",
       " 'id': 24428,\n",
       " 'imdb_id': 'tt0848228',\n",
       " 'original_language': 'en',\n",
       " 'original_title': 'The Avengers',\n",
       " 'overview': 'When an unexpected enemy emerges and threatens global safety and security, Nick Fury, director of the international peacekeeping agency known as S.H.I.E.L.D., finds himself in need of a team to pull the world back from the brink of disaster. Spanning the globe, a daring recruitment effort begins!',\n",
       " 'popularity': 125.693,\n",
       " 'poster_path': '/RYMX2wcKCBAr24UyPD7xwmjaTn.jpg',\n",
       " 'production_companies': [{'id': 420,\n",
       "   'logo_path': '/hUzeosd33nzE5MCNsZxCGEKTXaQ.png',\n",
       "   'name': 'Marvel Studios',\n",
       "   'origin_country': 'US'}],\n",
       " 'production_countries': [{'iso_3166_1': 'US',\n",
       "   'name': 'United States of America'}],\n",
       " 'release_date': '2012-04-25',\n",
       " 'revenue': 1518815515,\n",
       " 'runtime': 143,\n",
       " 'spoken_languages': [{'english_name': 'English',\n",
       "   'iso_639_1': 'en',\n",
       "   'name': 'English'},\n",
       "  {'english_name': 'Hindi', 'iso_639_1': 'hi', 'name': 'हिन्दी'},\n",
       "  {'english_name': 'Russian', 'iso_639_1': 'ru', 'name': 'Pусский'}],\n",
       " 'status': 'Released',\n",
       " 'tagline': 'Some assembly required.',\n",
       " 'title': 'The Avengers',\n",
       " 'video': False,\n",
       " 'vote_average': 7.708,\n",
       " 'vote_count': 27844,\n",
       " 'certification': 'PG-13'}"
      ]
     },
     "execution_count": 191,
     "metadata": {},
     "output_type": "execute_result"
    }
   ],
   "source": [
    "test = get_movie_with_rating(\"tt0848228\") #put your function name here\n",
    "test\n"
   ]
  },
  {
   "cell_type": "code",
   "execution_count": 192,
   "id": "468e9159",
   "metadata": {},
   "outputs": [
    {
     "data": {
      "text/plain": [
       "220000000"
      ]
     },
     "execution_count": 192,
     "metadata": {},
     "output_type": "execute_result"
    }
   ],
   "source": [
    "# Get the movie object for the current id\n",
    "movie = tmdb.Movies('tt0848228')\n",
    "# save the .info .releases dictionaries\n",
    "info = movie.info()\n",
    "info['budget']"
   ]
  },
  {
   "cell_type": "code",
   "execution_count": 193,
   "id": "b28fd80f",
   "metadata": {},
   "outputs": [],
   "source": [
    "YEARS_TO_GET = [2019]\n"
   ]
  },
  {
   "cell_type": "code",
   "execution_count": 194,
   "id": "75fbeddf",
   "metadata": {},
   "outputs": [],
   "source": [
    "def write_json(new_data, filename): \n",
    "    \"\"\"Appends a list of records (new_data) to a json file (filename). \n",
    "    Adapted from: https://www.geeksforgeeks.org/append-to-json-file-using-python/\"\"\"  \n",
    "    \n",
    "    with open(filename,'r+') as file:\n",
    "        # First we load existing data into a dict.\n",
    "        file_data = json.load(file)\n",
    "        ## Choose extend or append\n",
    "        if (type(new_data) == list) & (type(file_data) == list):\n",
    "            file_data.extend(new_data)\n",
    "        else:\n",
    "             file_data.append(new_data)\n",
    "        # Sets file's current position at offset.\n",
    "        file.seek(0)\n",
    "        # convert back to json.\n",
    "        json.dump(file_data, file)\n"
   ]
  },
  {
   "cell_type": "code",
   "execution_count": 195,
   "id": "88797333",
   "metadata": {},
   "outputs": [
    {
     "data": {
      "application/vnd.jupyter.widget-view+json": {
       "model_id": "b762563ab0724ea3bfeb5d56915e1bfd",
       "version_major": 2,
       "version_minor": 0
      },
      "text/plain": [
       "YEARS:   0%|          | 0/1 [00:00<?, ?it/s]"
      ]
     },
     "metadata": {},
     "output_type": "display_data"
    },
    {
     "data": {
      "application/vnd.jupyter.widget-view+json": {
       "model_id": "823afb6517c948b49b376bdaa4554c34",
       "version_major": 2,
       "version_minor": 0
      },
      "text/plain": [
       "Movies from 2019:   0%|          | 0/5749 [00:00<?, ?it/s]"
      ]
     },
     "metadata": {},
     "output_type": "display_data"
    }
   ],
   "source": [
    "# Start of OUTER loop\n",
    "for YEAR in tqdm_notebook(YEARS_TO_GET, desc='YEARS', position=0):\n",
    "    #Defining the JSON file to store results for year\n",
    "    JSON_FILE = f'{FOLDER}tmdb_api_results_{YEAR}.json'\n",
    "    # Check if file exists\n",
    "    file_exists = os.path.isfile(JSON_FILE)\n",
    "\n",
    "    # If it does not exist: create it\n",
    "    if file_exists == False:\n",
    "    # save an empty dict with just \"imdb_id\" to the new json file.\n",
    "        with open(JSON_FILE,'w') as f:\n",
    "            json.dump([{'imdb_id':0}],f)\n",
    "\n",
    "    #Saving new year as a new dataframe\n",
    "    df = df.loc[df['startYear']==YEAR].copy()\n",
    "    # saving movie ids to list\n",
    "    movie_ids = df['tconst'].copy()\n",
    "    movie_ids\n",
    "\n",
    "    # Load existing data from json into a dataframe called \"previous_df\"\n",
    "    previous_df = pd.read_json(JSON_FILE)\n",
    "\n",
    "    previous_df\n",
    "\n",
    "    # filter out any ids that are already in the JSON_FILE\n",
    "    movie_ids_to_get = movie_ids[~movie_ids.isin(previous_df['imdb_id'])]\n",
    "\n",
    "    #Get index and movie id from list\n",
    "    # INNER Loop\n",
    "    for movie_id in tqdm_notebook(movie_ids_to_get,\n",
    "                                  desc=f'Movies from {YEAR}',\n",
    "                                  position=1,\n",
    "                                  leave=True):\n",
    "        try:\n",
    "            # Retrieve then data for the movie id\n",
    "            temp = get_movie_with_rating(movie_id)  \n",
    "            # Append/extend results to existing file using a pre-made function\n",
    "            write_json(temp,JSON_FILE)\n",
    "            # Short 20 ms sleep to prevent overwhelming server\n",
    "            time.sleep(0.02)\n",
    "            \n",
    "        except Exception as e:\n",
    "            continue\n",
    "    new_df = pd.read_json(JSON_FILE)\n",
    "    new_df.to_csv('/Data Enrichment/Week 2/Project 3 Part-2/final_tmdb_{YEAR}.csv.gz', compression='gzip', index=False)"
   ]
  },
  {
   "cell_type": "code",
   "execution_count": null,
   "id": "108c4175",
   "metadata": {},
   "outputs": [],
   "source": []
  },
  {
   "cell_type": "code",
   "execution_count": null,
   "id": "88fe8791",
   "metadata": {},
   "outputs": [],
   "source": []
  },
  {
   "cell_type": "code",
   "execution_count": null,
   "id": "9cc250a7",
   "metadata": {},
   "outputs": [],
   "source": []
  },
  {
   "cell_type": "code",
   "execution_count": null,
   "id": "435ab36a",
   "metadata": {},
   "outputs": [],
   "source": []
  },
  {
   "cell_type": "code",
   "execution_count": null,
   "id": "9af0bf96",
   "metadata": {},
   "outputs": [],
   "source": []
  }
 ],
 "metadata": {
  "kernelspec": {
   "display_name": "Python (dojo-env)",
   "language": "python",
   "name": "dojo-env"
  },
  "language_info": {
   "codemirror_mode": {
    "name": "ipython",
    "version": 3
   },
   "file_extension": ".py",
   "mimetype": "text/x-python",
   "name": "python",
   "nbconvert_exporter": "python",
   "pygments_lexer": "ipython3",
   "version": "3.8.13"
  },
  "toc": {
   "base_numbering": 1,
   "nav_menu": {},
   "number_sections": false,
   "sideBar": true,
   "skip_h1_title": false,
   "title_cell": "Table of Contents",
   "title_sidebar": "Contents",
   "toc_cell": false,
   "toc_position": {
    "height": "calc(100% - 180px)",
    "left": "10px",
    "top": "150px",
    "width": "384px"
   },
   "toc_section_display": true,
   "toc_window_display": true
  }
 },
 "nbformat": 4,
 "nbformat_minor": 5
}
